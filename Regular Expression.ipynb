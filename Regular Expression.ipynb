{
 "cells": [
  {
   "cell_type": "markdown",
   "id": "c4d3eb64-f4b7-47a4-8c46-65717c427734",
   "metadata": {},
   "source": [
    "## Regular Expression"
   ]
  },
  {
   "cell_type": "code",
   "execution_count": 5,
   "id": "3b66f52a-8eaf-4c83-8ec9-233fa0c21bef",
   "metadata": {},
   "outputs": [],
   "source": [
    "import re"
   ]
  },
  {
   "cell_type": "code",
   "execution_count": 7,
   "id": "1181ed20-6230-47e8-9dbc-cad44543f26f",
   "metadata": {},
   "outputs": [
    {
     "name": "stdout",
     "output_type": "stream",
     "text": [
      "\u001b[31mERROR: Could not find a version that satisfies the requirement re (from versions: none)\u001b[0m\u001b[31m\n",
      "\u001b[0m\u001b[31mERROR: No matching distribution found for re\u001b[0m\u001b[31m\n",
      "\u001b[0mNote: you may need to restart the kernel to use updated packages.\n"
     ]
    }
   ],
   "source": [
    "pip install re"
   ]
  },
  {
   "cell_type": "markdown",
   "id": "d51237d7-de6f-49b2-8b23-f61d89306c52",
   "metadata": {},
   "source": [
    "## re.findall()"
   ]
  },
  {
   "cell_type": "code",
   "execution_count": null,
   "id": "3aeb20c3-d128-4b48-96f4-e4d9d1931602",
   "metadata": {},
   "outputs": [],
   "source": [
    "re.findall('pattern',text)"
   ]
  },
  {
   "cell_type": "code",
   "execution_count": 78,
   "id": "f4ba6a6a-80c8-44f8-858d-c0fb75bfeab8",
   "metadata": {},
   "outputs": [
    {
     "name": "stdout",
     "output_type": "stream",
     "text": [
      " My name is sahil\n",
      "today'sdate is 08/12/2022\n",
      "and next 08-02-2021\n",
      "and number is 9098756789\n",
      "and emailid is sahilShujk23232@gmail.com\n",
      "and Pan is DGKFI9087S\n"
     ]
    }
   ],
   "source": [
    "text = ''' My name is sahil\n",
    "today'sdate is 08/12/2022\n",
    "and next 08-02-2021\n",
    "and number is 9098756789\n",
    "and emailid is sahilShujk23232@gmail.com\n",
    "and Pan is DGKFI9087S'''\n",
    "print(text)\n"
   ]
  },
  {
   "cell_type": "code",
   "execution_count": 82,
   "id": "c8a2d897-3955-4f1e-b524-935e148ec317",
   "metadata": {},
   "outputs": [
    {
     "name": "stdout",
     "output_type": "stream",
     "text": [
      "['9098756789']\n",
      "['08/12/2022', '08-02-2021']\n",
      "['DGKFI9087S']\n",
      "['sahilShujk23232@gmail.com']\n"
     ]
    }
   ],
   "source": [
    "Number = re.findall('[0-9]{10}',text)\n",
    "print(Number)\n",
    "Date = re.findall('[0-9]{2}[-/][0-9]{2}[/-][0-9]{4}',text)\n",
    "print(Date)\n",
    "Pan = re.findall('[A-Z]{5}[0-9]{4}[A-Z]{1}',text)\n",
    "print(Pan)\n",
    "Email = re.findall('[A-z0-9]{1,20}@[a-z]{1,5}.[a-z]{1,3}',text)\n",
    "print(Email)"
   ]
  },
  {
   "cell_type": "markdown",
   "id": "5fd53344-0c01-471e-9982-0664838c30f7",
   "metadata": {},
   "source": [
    "## re.sub()"
   ]
  },
  {
   "cell_type": "code",
   "execution_count": 100,
   "id": "d16c35fc-bf08-47d6-9fc1-b3ae27c79faf",
   "metadata": {},
   "outputs": [
    {
     "name": "stdout",
     "output_type": "stream",
     "text": [
      "machine learning is #### #### best practice\n",
      "####################3545#4565##############\n"
     ]
    }
   ],
   "source": [
    "newtext = 'machine learning is 3545 4565 best practice'\n",
    "number_personal = re.sub('\\d','#',newtext)\n",
    "print(number_personal)\n",
    "number_personal1 = re.sub('\\D','#',newtext)\n",
    "print(number_personal1)"
   ]
  },
  {
   "cell_type": "code",
   "execution_count": 96,
   "id": "35ab989f-f535-41ae-b7b1-0db8182965a3",
   "metadata": {},
   "outputs": [],
   "source": [
    "import warnings\n",
    "warnings.filterwarnings(\"ignore\")"
   ]
  },
  {
   "cell_type": "code",
   "execution_count": null,
   "id": "37cfdfad-cba2-4a1e-beea-14c838f1386c",
   "metadata": {},
   "outputs": [],
   "source": [
    "\\w = 0-9,a-z,A-Z"
   ]
  },
  {
   "cell_type": "markdown",
   "id": "b79d454f-c8c4-450c-a895-dcf6e132338b",
   "metadata": {},
   "source": [
    "## re.search()"
   ]
  },
  {
   "cell_type": "code",
   "execution_count": 112,
   "id": "98d2b26d-18ce-49f4-adb2-be7f854c0dfe",
   "metadata": {},
   "outputs": [
    {
     "name": "stdout",
     "output_type": "stream",
     "text": [
      "+91-9876543210\n"
     ]
    }
   ],
   "source": [
    "text2 = \"Call me at +91-9876543210\"\n",
    "match = re.search(\"\\+91-\\d{10}\", text2)\n",
    "print(match.group())"
   ]
  },
  {
   "cell_type": "markdown",
   "id": "90cdcab7-f03e-428b-a5d9-1f6fd803ee98",
   "metadata": {},
   "source": [
    "## re.match()"
   ]
  },
  {
   "cell_type": "code",
   "execution_count": 118,
   "id": "b8ebe95f-80b0-499a-ad18-55737d816338",
   "metadata": {},
   "outputs": [
    {
     "name": "stdout",
     "output_type": "stream",
     "text": [
      "Valid date\n"
     ]
    }
   ],
   "source": [
    "date = \"2025-02-20\"\n",
    "match = re.match(r\"\\d{4}-\\d{2}-\\d{2}\", date)\n",
    "print(\"Valid date\" if match else \"Invalid date\")\n"
   ]
  },
  {
   "cell_type": "markdown",
   "id": "f0dadabe-bd75-4dfb-b079-fd5a491e55cf",
   "metadata": {},
   "source": [
    "## re.split()"
   ]
  },
  {
   "cell_type": "code",
   "execution_count": 122,
   "id": "d079fc5d-9a7f-485c-b2c5-f7700c48dd8f",
   "metadata": {},
   "outputs": [
    {
     "name": "stdout",
     "output_type": "stream",
     "text": [
      "['Hello', ' world', ' How are you', '']\n"
     ]
    }
   ],
   "source": [
    "text = \"Hello, world! How are you?\"\n",
    "words = re.split(\"[,.!?]\", text)\n",
    "print(words)\n"
   ]
  }
 ],
 "metadata": {
  "kernelspec": {
   "display_name": "Python 3 (ipykernel)",
   "language": "python",
   "name": "python3"
  },
  "language_info": {
   "codemirror_mode": {
    "name": "ipython",
    "version": 3
   },
   "file_extension": ".py",
   "mimetype": "text/x-python",
   "name": "python",
   "nbconvert_exporter": "python",
   "pygments_lexer": "ipython3",
   "version": "3.12.7"
  }
 },
 "nbformat": 4,
 "nbformat_minor": 5
}
